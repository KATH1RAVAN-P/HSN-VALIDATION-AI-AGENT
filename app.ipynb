{
 "cells": [
  {
   "cell_type": "code",
   "execution_count": null,
   "id": "459f2a99-fb75-4a8e-8659-30e43dd45a2e",
   "metadata": {
    "scrolled": true
   },
   "outputs": [],
   "source": [
    "pip install pandas flask openpyxl"
   ]
  },
  {
   "cell_type": "code",
   "execution_count": 1,
   "id": "b72b9f1c-ea25-4c65-82c4-bd6485415a81",
   "metadata": {},
   "outputs": [],
   "source": [
    "from flask import Flask, request, jsonify\n",
    "import pandas as pd\n",
    "import os\n",
    "\n",
    "app = Flask(__name__)"
   ]
  },
  {
   "cell_type": "code",
   "execution_count": 3,
   "id": "04c1e088-fcda-4a4b-bbea-9a949a515975",
   "metadata": {},
   "outputs": [],
   "source": [
    "# Load HSN Master Data\n",
    "df = pd.read_excel(\"HSN_SAC.xlsx\")\n",
    "df = df.rename(columns = {\"\\nHSNCode\":\"HSNCode\"})\n",
    "df['HSNCode'] = df['HSNCode'].astype(str).str.strip()\n",
    "df['Description'] = df['Description'].astype(str).str.strip()"
   ]
  },
  {
   "cell_type": "code",
   "execution_count": 5,
   "id": "c2d6f9db-4c88-4395-8280-24e3641b0593",
   "metadata": {},
   "outputs": [],
   "source": [
    "# HSN Validation Function\n",
    "def validate_hsn_code(hsn_code):\n",
    "    hsn_code = str(hsn_code).strip()\n",
    "    if not hsn_code.isdigit():\n",
    "        return {\"status\": \"Invalid\", \"reason\": \"HSN must be numeric\"}\n",
    "    if not (2 <= len(hsn_code) <= 8):\n",
    "        return {\"status\": \"Invalid\", \"reason\": \"HSN must be 2 to 8 digits\"}\n",
    "    match = df[df['HSNCode'] == hsn_code]\n",
    "    if not match.empty:\n",
    "        return {\"status\": \"Valid\", \"description\": match.iloc[0]['Description']}\n",
    "    else:\n",
    "        return {\"status\": \"Invalid\", \"reason\": \"Not found in master data\"}\n"
   ]
  },
  {
   "cell_type": "code",
   "execution_count": 7,
   "id": "4b2cd82e-67ba-4c34-9bdb-aecded853457",
   "metadata": {},
   "outputs": [],
   "source": [
    "# Webhook Endpoint\n",
    "@app.route('/webhook', methods=['POST'])\n",
    "def webhook():\n",
    "    req = request.get_json()\n",
    "    hsn_code = req['queryResult']['parameters'].get('hsn_code')\n",
    "    result = validate_hsn_code(hsn_code)\n",
    "\n",
    "    reply = f\"✅ HSN Code {hsn_code} is valid.\\nDescription: {result['description']}\" \\\n",
    "        if result['status'] == 'Valid' \\\n",
    "        else f\"❌ Invalid HSN Code: {hsn_code}\\nReason: {result['reason']}\"\n",
    "\n",
    "    return jsonify({\"fulfillmentText\": reply})\n"
   ]
  },
  {
   "cell_type": "code",
   "execution_count": null,
   "id": "bfaae328-4a6e-4ede-8cb7-be74e460a362",
   "metadata": {},
   "outputs": [
    {
     "name": "stdout",
     "output_type": "stream",
     "text": [
      " * Serving Flask app '__main__'\n",
      " * Debug mode: off\n"
     ]
    },
    {
     "name": "stderr",
     "output_type": "stream",
     "text": [
      "WARNING: This is a development server. Do not use it in a production deployment. Use a production WSGI server instead.\n",
      " * Running on http://127.0.0.1:8000\n",
      "Press CTRL+C to quit\n",
      "127.0.0.1 - - [23/May/2025 23:16:55] \"POST /webhook HTTP/1.1\" 200 -\n",
      "127.0.0.1 - - [23/May/2025 23:17:17] \"POST /webhook HTTP/1.1\" 200 -\n",
      "127.0.0.1 - - [23/May/2025 23:17:34] \"POST /webhook HTTP/1.1\" 200 -\n",
      "127.0.0.1 - - [23/May/2025 23:17:52] \"POST /webhook HTTP/1.1\" 200 -\n"
     ]
    }
   ],
   "source": [
    "if __name__ == '__main__':\n",
    "    # Run locally on a fixed port (no ngrok)\n",
    "    app.run(host='127.0.0.1', port=8000)"
   ]
  },
  {
   "cell_type": "code",
   "execution_count": null,
   "id": "57f63b22-337d-4abc-9496-766c117caedb",
   "metadata": {},
   "outputs": [],
   "source": []
  },
  {
   "cell_type": "code",
   "execution_count": null,
   "id": "a499df92-625f-4d09-bd9d-545a7abdc36f",
   "metadata": {},
   "outputs": [],
   "source": []
  },
  {
   "cell_type": "code",
   "execution_count": null,
   "id": "5f1418bf-de93-4e10-800b-f73b29d78476",
   "metadata": {},
   "outputs": [],
   "source": []
  }
 ],
 "metadata": {
  "kernelspec": {
   "display_name": "Python 3 (ipykernel)",
   "language": "python",
   "name": "python3"
  },
  "language_info": {
   "codemirror_mode": {
    "name": "ipython",
    "version": 3
   },
   "file_extension": ".py",
   "mimetype": "text/x-python",
   "name": "python",
   "nbconvert_exporter": "python",
   "pygments_lexer": "ipython3",
   "version": "3.12.7"
  }
 },
 "nbformat": 4,
 "nbformat_minor": 5
}
